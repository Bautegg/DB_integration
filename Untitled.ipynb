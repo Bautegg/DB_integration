{
 "cells": [
  {
   "cell_type": "code",
   "execution_count": 3,
   "id": "aa5ae47d-c7c6-40d2-b491-8a0709caec01",
   "metadata": {},
   "outputs": [
    {
     "data": {
      "text/plain": [
       "['trade',\n",
       " '2020',\n",
       " '2021',\n",
       " '2021.01',\n",
       " '2021.02',\n",
       " '2021.03',\n",
       " '2021.04',\n",
       " '2021.05',\n",
       " '2021.06',\n",
       " '2021.07',\n",
       " '2021.08',\n",
       " '2021.09',\n",
       " '2021.10',\n",
       " '2021.11',\n",
       " '2021.12',\n",
       " '2022',\n",
       " '2022.01',\n",
       " '2022.02',\n",
       " '2022.03',\n",
       " '2022.04',\n",
       " '2022.05',\n",
       " '2022.06',\n",
       " '2022.07',\n",
       " '2022.08',\n",
       " '2022.09',\n",
       " '2022.10',\n",
       " '2022.11',\n",
       " '2022.12',\n",
       " '2023.01',\n",
       " '2023.02',\n",
       " '2023.03',\n",
       " '2023.04',\n",
       " '2023.05',\n",
       " '2023.06']"
      ]
     },
     "execution_count": 3,
     "metadata": {},
     "output_type": "execute_result"
    }
   ],
   "source": [
    "import pandas as pd\n",
    "\n",
    "delimiter = \"\\t\"\n",
    "first_col = \"trade\"\n",
    "primary_key_label = \"p_k\"\n",
    "files_dict = {\"trade\": \"ds-059268$defaultview_tabular.tsv\"\n",
    "             , \"population\": \"demo_gind_tabular.tsv\"}\n",
    "\n",
    "def load_file():\n",
    "    df_dict = {}\n",
    "    for i in files_dict:\n",
    "        file_path = files_dict[i]\n",
    "        df = pd.read_csv(file_path, sep=delimiter, na_values=\": \", keep_default_na=True)\n",
    "        pd.options.display.float_format = \"{:.0f}\".format\n",
    "        # df.iloc[:, 0] = df.iloc[:, 0].replace(regex={\",\": \"_\"})\n",
    "        df_dict[i] = df\n",
    "\n",
    "    return df_dict\n",
    "\n",
    "# TODO wwszystkie 4 operacje wykonać na każdym elemencie\n",
    "\n",
    "\n",
    "def prepare_header(df_key):\n",
    "    df_p = load_file().get(df_key)\n",
    "    # remove whitespaces from header_names list\n",
    "    header_names = [x.strip() for x in list(df_p.columns)]\n",
    "    # lower all elements of header_names\n",
    "    header_names = [x.lower() for x in header_names]\n",
    "    # replace '-' with '_' in header_names list\n",
    "    header_names = [x.replace('-', '.') for x in header_names]\n",
    "    # add 'd' at the begining of column name where first character is a number\n",
    "    # header_names = ['d' + x if x[0].isnumeric() else x for x in header_names]\n",
    "    header_names[0] = first_col\n",
    "    \n",
    "    return header_names\n",
    "\n",
    "prepare_header(\"trade\")"
   ]
  },
  {
   "cell_type": "code",
   "execution_count": null,
   "id": "c00a1ab4-4b1e-4271-930c-d9e68c641a1e",
   "metadata": {
    "editable": true,
    "slideshow": {
     "slide_type": ""
    },
    "tags": []
   },
   "outputs": [],
   "source": []
  }
 ],
 "metadata": {
  "kernelspec": {
   "display_name": "Python 3 (ipykernel)",
   "language": "python",
   "name": "python3"
  },
  "language_info": {
   "codemirror_mode": {
    "name": "ipython",
    "version": 3
   },
   "file_extension": ".py",
   "mimetype": "text/x-python",
   "name": "python",
   "nbconvert_exporter": "python",
   "pygments_lexer": "ipython3",
   "version": "3.11.4"
  }
 },
 "nbformat": 4,
 "nbformat_minor": 5
}
